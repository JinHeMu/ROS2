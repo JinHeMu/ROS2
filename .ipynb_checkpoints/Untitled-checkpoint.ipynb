{
 "cells": [
  {
   "cell_type": "code",
   "execution_count": null,
   "id": "97445575-d940-4485-a16b-218946fecbec",
   "metadata": {},
   "outputs": [
    {
     "name": "stderr",
     "output_type": "stream",
     "text": [
      "[INFO] [1694963565.288337718] [li4]: 大家好，我是作家li4.\n"
     ]
    }
   ],
   "source": [
    "import rclpy\n",
    "from rclpy.node import Node \n",
    "rclpy.init() # 初始化rclpy\n",
    "node = Node(\"li4\")  # 新建一个节点\n",
    "node.get_logger().info(\"大家好，我是作家li4.\")\n",
    "rclpy.spin(node) # 保持节点运行，检测是否收到退出指令（Ctrl+C）\n"
   ]
  },
  {
   "cell_type": "code",
   "execution_count": null,
   "id": "31a3014f-e2bb-4d27-8953-1f05355924f0",
   "metadata": {},
   "outputs": [],
   "source": [
    "\n"
   ]
  },
  {
   "cell_type": "code",
   "execution_count": null,
   "id": "d17797e3-5cba-4f61-b826-d1855923e012",
   "metadata": {},
   "outputs": [],
   "source": []
  }
 ],
 "metadata": {
  "kernelspec": {
   "display_name": "Python 3 (ipykernel)",
   "language": "python",
   "name": "python3"
  },
  "language_info": {
   "codemirror_mode": {
    "name": "ipython",
    "version": 3
   },
   "file_extension": ".py",
   "mimetype": "text/x-python",
   "name": "python",
   "nbconvert_exporter": "python",
   "pygments_lexer": "ipython3",
   "version": "3.10.12"
  }
 },
 "nbformat": 4,
 "nbformat_minor": 5
}
